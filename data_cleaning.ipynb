{
 "cells": [
  {
   "cell_type": "markdown",
   "metadata": {},
   "source": [
    "## Data Cleaning & Feature Engineering\n",
    "\n",
    "Let's start cleaning our data. We will start this task by first looking at our data and then decide what we need to do. During this phase we will also assess if we need split or drop existing features, or create entirely new features.\n",
    "\n",
    "For cleaning the data, I have created a .py containing all the functions that will help me clean. There can be other approaches, but this is what I'm going to follow.\n",
    "\n",
    "A typical data cleaning task starts with reviewing the data which we have. So, let's start exploring our data and see what we have to clean."
   ]
  },
  {
   "cell_type": "code",
   "execution_count": 1,
   "metadata": {},
   "outputs": [],
   "source": [
    "#importing libraries\n",
    "\n",
    "import pandas as pd\n",
    "import data_cleaning as dc"
   ]
  },
  {
   "cell_type": "code",
   "execution_count": 2,
   "metadata": {},
   "outputs": [
    {
     "name": "stdout",
     "output_type": "stream",
     "text": [
      "We have 1989 rows and 12 columns in our dataframe\n"
     ]
    }
   ],
   "source": [
    "# reading our properties data into dataframe\n",
    "\n",
    "df_properties = pd.read_csv('properties.csv')\n",
    "\n",
    "# lets see the dimensions of the data\n",
    "print('We have', df_properties.shape[0], 'rows and', df_properties.shape[1], 'columns in our dataframe')\n"
   ]
  },
  {
   "cell_type": "code",
   "execution_count": 3,
   "metadata": {},
   "outputs": [
    {
     "data": {
      "text/html": [
       "<div>\n",
       "<style scoped>\n",
       "    .dataframe tbody tr th:only-of-type {\n",
       "        vertical-align: middle;\n",
       "    }\n",
       "\n",
       "    .dataframe tbody tr th {\n",
       "        vertical-align: top;\n",
       "    }\n",
       "\n",
       "    .dataframe thead th {\n",
       "        text-align: right;\n",
       "    }\n",
       "</style>\n",
       "<table border=\"1\" class=\"dataframe\">\n",
       "  <thead>\n",
       "    <tr style=\"text-align: right;\">\n",
       "      <th></th>\n",
       "      <th>id</th>\n",
       "      <th>title</th>\n",
       "      <th>price</th>\n",
       "      <th>location</th>\n",
       "      <th>latitude</th>\n",
       "      <th>longitude</th>\n",
       "      <th>type</th>\n",
       "      <th>size</th>\n",
       "      <th>no_of_bedrooms</th>\n",
       "      <th>no_of_bathrooms</th>\n",
       "      <th>completion_status</th>\n",
       "      <th>amenities</th>\n",
       "    </tr>\n",
       "  </thead>\n",
       "  <tbody>\n",
       "    <tr>\n",
       "      <th>0</th>\n",
       "      <td>5528049</td>\n",
       "      <td>Price Reduced | Middle Floor | Nice Sea View | PJ</td>\n",
       "      <td>2700000</td>\n",
       "      <td>Dubai, Palm Jumeirah</td>\n",
       "      <td>25.113208</td>\n",
       "      <td>55.138932</td>\n",
       "      <td>Apartment</td>\n",
       "      <td>1,079 sqft\\n                      /           ...</td>\n",
       "      <td>1</td>\n",
       "      <td>2.0</td>\n",
       "      <td>Off-plan</td>\n",
       "      <td>Partly furnished, Balcony, Barbecue Area, Cent...</td>\n",
       "    </tr>\n",
       "    <tr>\n",
       "      <th>1</th>\n",
       "      <td>6008529</td>\n",
       "      <td>2BR Type D | Sea and Burj Al Arab Views | PJ</td>\n",
       "      <td>2850000</td>\n",
       "      <td>Dubai, Palm Jumeirah, Shoreline Apartments</td>\n",
       "      <td>25.106809</td>\n",
       "      <td>55.151201</td>\n",
       "      <td>Apartment</td>\n",
       "      <td>1,582 sqft\\n                      /           ...</td>\n",
       "      <td>2</td>\n",
       "      <td>2.0</td>\n",
       "      <td>Ready</td>\n",
       "      <td>Furnished, Balcony, Built in Wardrobes, Centra...</td>\n",
       "    </tr>\n",
       "    <tr>\n",
       "      <th>2</th>\n",
       "      <td>6034542</td>\n",
       "      <td>AMAZING LAKE VIEW / 3 BR w/ Maid's Rm Apt @ JU...</td>\n",
       "      <td>1150000</td>\n",
       "      <td>Dubai, Jumeirah Lake Towers, Lake Almas West</td>\n",
       "      <td>25.063302</td>\n",
       "      <td>55.137728</td>\n",
       "      <td>Apartment</td>\n",
       "      <td>1,951 sqft\\n                      /           ...</td>\n",
       "      <td>3 + Maid</td>\n",
       "      <td>5.0</td>\n",
       "      <td>NaN</td>\n",
       "      <td>Unfurnished, Balcony, Built in Wardrobes, Cove...</td>\n",
       "    </tr>\n",
       "  </tbody>\n",
       "</table>\n",
       "</div>"
      ],
      "text/plain": [
       "        id                                              title    price  \\\n",
       "0  5528049  Price Reduced | Middle Floor | Nice Sea View | PJ  2700000   \n",
       "1  6008529       2BR Type D | Sea and Burj Al Arab Views | PJ  2850000   \n",
       "2  6034542  AMAZING LAKE VIEW / 3 BR w/ Maid's Rm Apt @ JU...  1150000   \n",
       "\n",
       "                                       location   latitude  longitude  \\\n",
       "0                          Dubai, Palm Jumeirah  25.113208  55.138932   \n",
       "1    Dubai, Palm Jumeirah, Shoreline Apartments  25.106809  55.151201   \n",
       "2  Dubai, Jumeirah Lake Towers, Lake Almas West  25.063302  55.137728   \n",
       "\n",
       "        type                                               size  \\\n",
       "0  Apartment  1,079 sqft\\n                      /           ...   \n",
       "1  Apartment  1,582 sqft\\n                      /           ...   \n",
       "2  Apartment  1,951 sqft\\n                      /           ...   \n",
       "\n",
       "  no_of_bedrooms  no_of_bathrooms completion_status  \\\n",
       "0              1              2.0          Off-plan   \n",
       "1              2              2.0             Ready   \n",
       "2       3 + Maid              5.0               NaN   \n",
       "\n",
       "                                           amenities  \n",
       "0  Partly furnished, Balcony, Barbecue Area, Cent...  \n",
       "1  Furnished, Balcony, Built in Wardrobes, Centra...  \n",
       "2  Unfurnished, Balcony, Built in Wardrobes, Cove...  "
      ]
     },
     "execution_count": 3,
     "metadata": {},
     "output_type": "execute_result"
    }
   ],
   "source": [
    "df_properties.head(3)"
   ]
  },
  {
   "cell_type": "markdown",
   "metadata": {},
   "source": [
    "#### 1. Removing unwanted columns\n",
    "\n",
    "Looking at the above data, we can see that we have a title and type columns, these does not add much value to our analysis and modeling. So we can safely remove them from our dataframe.\n",
    "\n",
    "All other columns are relevant to either model building or exploratory analysis."
   ]
  },
  {
   "cell_type": "code",
   "execution_count": 4,
   "metadata": {},
   "outputs": [
    {
     "data": {
      "text/html": [
       "<div>\n",
       "<style scoped>\n",
       "    .dataframe tbody tr th:only-of-type {\n",
       "        vertical-align: middle;\n",
       "    }\n",
       "\n",
       "    .dataframe tbody tr th {\n",
       "        vertical-align: top;\n",
       "    }\n",
       "\n",
       "    .dataframe thead th {\n",
       "        text-align: right;\n",
       "    }\n",
       "</style>\n",
       "<table border=\"1\" class=\"dataframe\">\n",
       "  <thead>\n",
       "    <tr style=\"text-align: right;\">\n",
       "      <th></th>\n",
       "      <th>id</th>\n",
       "      <th>price</th>\n",
       "      <th>location</th>\n",
       "      <th>latitude</th>\n",
       "      <th>longitude</th>\n",
       "      <th>size</th>\n",
       "      <th>no_of_bedrooms</th>\n",
       "      <th>no_of_bathrooms</th>\n",
       "      <th>completion_status</th>\n",
       "      <th>amenities</th>\n",
       "    </tr>\n",
       "  </thead>\n",
       "  <tbody>\n",
       "    <tr>\n",
       "      <th>0</th>\n",
       "      <td>5528049</td>\n",
       "      <td>2700000</td>\n",
       "      <td>Dubai, Palm Jumeirah</td>\n",
       "      <td>25.113208</td>\n",
       "      <td>55.138932</td>\n",
       "      <td>1,079 sqft\\n                      /           ...</td>\n",
       "      <td>1</td>\n",
       "      <td>2.0</td>\n",
       "      <td>Off-plan</td>\n",
       "      <td>Partly furnished, Balcony, Barbecue Area, Cent...</td>\n",
       "    </tr>\n",
       "    <tr>\n",
       "      <th>1</th>\n",
       "      <td>6008529</td>\n",
       "      <td>2850000</td>\n",
       "      <td>Dubai, Palm Jumeirah, Shoreline Apartments</td>\n",
       "      <td>25.106809</td>\n",
       "      <td>55.151201</td>\n",
       "      <td>1,582 sqft\\n                      /           ...</td>\n",
       "      <td>2</td>\n",
       "      <td>2.0</td>\n",
       "      <td>Ready</td>\n",
       "      <td>Furnished, Balcony, Built in Wardrobes, Centra...</td>\n",
       "    </tr>\n",
       "    <tr>\n",
       "      <th>2</th>\n",
       "      <td>6034542</td>\n",
       "      <td>1150000</td>\n",
       "      <td>Dubai, Jumeirah Lake Towers, Lake Almas West</td>\n",
       "      <td>25.063302</td>\n",
       "      <td>55.137728</td>\n",
       "      <td>1,951 sqft\\n                      /           ...</td>\n",
       "      <td>3 + Maid</td>\n",
       "      <td>5.0</td>\n",
       "      <td>NaN</td>\n",
       "      <td>Unfurnished, Balcony, Built in Wardrobes, Cove...</td>\n",
       "    </tr>\n",
       "    <tr>\n",
       "      <th>3</th>\n",
       "      <td>6326063</td>\n",
       "      <td>2850000</td>\n",
       "      <td>Dubai, Culture Village</td>\n",
       "      <td>25.227295</td>\n",
       "      <td>55.341761</td>\n",
       "      <td>2,020 sqft\\n                      /           ...</td>\n",
       "      <td>2</td>\n",
       "      <td>3.0</td>\n",
       "      <td>Ready</td>\n",
       "      <td>Unfurnished, Balcony, Concierge, Covered Parki...</td>\n",
       "    </tr>\n",
       "    <tr>\n",
       "      <th>4</th>\n",
       "      <td>6356778</td>\n",
       "      <td>1729200</td>\n",
       "      <td>Dubai, Palm Jumeirah</td>\n",
       "      <td>25.114275</td>\n",
       "      <td>55.139764</td>\n",
       "      <td>507 sqft\\n                      /            4...</td>\n",
       "      <td>studio</td>\n",
       "      <td>1.0</td>\n",
       "      <td>Off-plan</td>\n",
       "      <td>Furnished, Built in Wardrobes, Central A/C, Co...</td>\n",
       "    </tr>\n",
       "  </tbody>\n",
       "</table>\n",
       "</div>"
      ],
      "text/plain": [
       "        id    price                                      location   latitude  \\\n",
       "0  5528049  2700000                          Dubai, Palm Jumeirah  25.113208   \n",
       "1  6008529  2850000    Dubai, Palm Jumeirah, Shoreline Apartments  25.106809   \n",
       "2  6034542  1150000  Dubai, Jumeirah Lake Towers, Lake Almas West  25.063302   \n",
       "3  6326063  2850000                        Dubai, Culture Village  25.227295   \n",
       "4  6356778  1729200                          Dubai, Palm Jumeirah  25.114275   \n",
       "\n",
       "   longitude                                               size  \\\n",
       "0  55.138932  1,079 sqft\\n                      /           ...   \n",
       "1  55.151201  1,582 sqft\\n                      /           ...   \n",
       "2  55.137728  1,951 sqft\\n                      /           ...   \n",
       "3  55.341761  2,020 sqft\\n                      /           ...   \n",
       "4  55.139764  507 sqft\\n                      /            4...   \n",
       "\n",
       "  no_of_bedrooms  no_of_bathrooms completion_status  \\\n",
       "0              1              2.0          Off-plan   \n",
       "1              2              2.0             Ready   \n",
       "2       3 + Maid              5.0               NaN   \n",
       "3              2              3.0             Ready   \n",
       "4         studio              1.0          Off-plan   \n",
       "\n",
       "                                           amenities  \n",
       "0  Partly furnished, Balcony, Barbecue Area, Cent...  \n",
       "1  Furnished, Balcony, Built in Wardrobes, Centra...  \n",
       "2  Unfurnished, Balcony, Built in Wardrobes, Cove...  \n",
       "3  Unfurnished, Balcony, Concierge, Covered Parki...  \n",
       "4  Furnished, Built in Wardrobes, Central A/C, Co...  "
      ]
     },
     "execution_count": 4,
     "metadata": {},
     "output_type": "execute_result"
    }
   ],
   "source": [
    "# calling our function to remove unwanted columns\n",
    "column_list = ['title', 'type']\n",
    "df_properties = dc.remove_unwanted_columns(df_properties, column_list)\n",
    "\n",
    "# lets preview our data again after deletion\n",
    "df_properties.head()"
   ]
  },
  {
   "cell_type": "markdown",
   "metadata": {},
   "source": [
    "#### 2. Removing duplicates\n",
    "\n",
    "Let's make sure we don't have any duplicate properties. To do that, let's look at our id field for duplication."
   ]
  },
  {
   "cell_type": "code",
   "execution_count": 5,
   "metadata": {},
   "outputs": [
    {
     "data": {
      "text/html": [
       "<div>\n",
       "<style scoped>\n",
       "    .dataframe tbody tr th:only-of-type {\n",
       "        vertical-align: middle;\n",
       "    }\n",
       "\n",
       "    .dataframe tbody tr th {\n",
       "        vertical-align: top;\n",
       "    }\n",
       "\n",
       "    .dataframe thead th {\n",
       "        text-align: right;\n",
       "    }\n",
       "</style>\n",
       "<table border=\"1\" class=\"dataframe\">\n",
       "  <thead>\n",
       "    <tr style=\"text-align: right;\">\n",
       "      <th></th>\n",
       "      <th>id</th>\n",
       "      <th>price</th>\n",
       "      <th>location</th>\n",
       "      <th>latitude</th>\n",
       "      <th>longitude</th>\n",
       "      <th>size</th>\n",
       "      <th>no_of_bedrooms</th>\n",
       "      <th>no_of_bathrooms</th>\n",
       "      <th>completion_status</th>\n",
       "      <th>amenities</th>\n",
       "    </tr>\n",
       "  </thead>\n",
       "  <tbody>\n",
       "    <tr>\n",
       "      <th>8</th>\n",
       "      <td>6376886</td>\n",
       "      <td>2100000</td>\n",
       "      <td>Dubai, Palm Jumeirah, Shoreline Apartments</td>\n",
       "      <td>25.106668</td>\n",
       "      <td>55.149275</td>\n",
       "      <td>2,186 sqft\\n                      /           ...</td>\n",
       "      <td>3</td>\n",
       "      <td>3.0</td>\n",
       "      <td>Ready</td>\n",
       "      <td>NaN</td>\n",
       "    </tr>\n",
       "    <tr>\n",
       "      <th>9</th>\n",
       "      <td>6376886</td>\n",
       "      <td>2100000</td>\n",
       "      <td>Dubai, Palm Jumeirah, Shoreline Apartments</td>\n",
       "      <td>25.106668</td>\n",
       "      <td>55.149275</td>\n",
       "      <td>2,186 sqft\\n                      /           ...</td>\n",
       "      <td>3</td>\n",
       "      <td>3.0</td>\n",
       "      <td>Ready</td>\n",
       "      <td>NaN</td>\n",
       "    </tr>\n",
       "    <tr>\n",
       "      <th>11</th>\n",
       "      <td>6473651</td>\n",
       "      <td>3550000</td>\n",
       "      <td>Dubai, Downtown Dubai, Burj Vista</td>\n",
       "      <td>25.198796</td>\n",
       "      <td>55.271342</td>\n",
       "      <td>1,918 sqft\\n                      /           ...</td>\n",
       "      <td>3</td>\n",
       "      <td>4.0</td>\n",
       "      <td>Ready</td>\n",
       "      <td>Unfurnished, Balcony, Central A/C, Kitchen App...</td>\n",
       "    </tr>\n",
       "    <tr>\n",
       "      <th>12</th>\n",
       "      <td>6473651</td>\n",
       "      <td>3550000</td>\n",
       "      <td>Dubai, Downtown Dubai, Burj Vista</td>\n",
       "      <td>25.198796</td>\n",
       "      <td>55.271342</td>\n",
       "      <td>1,918 sqft\\n                      /           ...</td>\n",
       "      <td>3</td>\n",
       "      <td>4.0</td>\n",
       "      <td>Ready</td>\n",
       "      <td>Unfurnished, Balcony, Central A/C, Kitchen App...</td>\n",
       "    </tr>\n",
       "    <tr>\n",
       "      <th>28</th>\n",
       "      <td>6810606</td>\n",
       "      <td>2800000</td>\n",
       "      <td>Dubai, Downtown Dubai, Burj Khalifa Area</td>\n",
       "      <td>25.194282</td>\n",
       "      <td>55.271884</td>\n",
       "      <td>1,712 sqft\\n                      /           ...</td>\n",
       "      <td>2</td>\n",
       "      <td>3.0</td>\n",
       "      <td>Off-plan</td>\n",
       "      <td>Unfurnished, Balcony, Built in Wardrobes, Cent...</td>\n",
       "    </tr>\n",
       "    <tr>\n",
       "      <th>...</th>\n",
       "      <td>...</td>\n",
       "      <td>...</td>\n",
       "      <td>...</td>\n",
       "      <td>...</td>\n",
       "      <td>...</td>\n",
       "      <td>...</td>\n",
       "      <td>...</td>\n",
       "      <td>...</td>\n",
       "      <td>...</td>\n",
       "      <td>...</td>\n",
       "    </tr>\n",
       "    <tr>\n",
       "      <th>1846</th>\n",
       "      <td>7695774</td>\n",
       "      <td>1366000</td>\n",
       "      <td>Dubai, Jumeirah, La Mer</td>\n",
       "      <td>25.240419</td>\n",
       "      <td>55.252770</td>\n",
       "      <td>816 sqft\\n                      /            7...</td>\n",
       "      <td>1</td>\n",
       "      <td>1.0</td>\n",
       "      <td>Off-plan</td>\n",
       "      <td>Unfurnished, Balcony, Built in Wardrobes, Cent...</td>\n",
       "    </tr>\n",
       "    <tr>\n",
       "      <th>1895</th>\n",
       "      <td>7698639</td>\n",
       "      <td>2400000</td>\n",
       "      <td>Dubai, DIFC, Central Park Tower</td>\n",
       "      <td>25.206412</td>\n",
       "      <td>55.275199</td>\n",
       "      <td>1,782 sqft\\n                      /           ...</td>\n",
       "      <td>2</td>\n",
       "      <td>3.0</td>\n",
       "      <td>Ready</td>\n",
       "      <td>NaN</td>\n",
       "    </tr>\n",
       "    <tr>\n",
       "      <th>1896</th>\n",
       "      <td>7698639</td>\n",
       "      <td>2400000</td>\n",
       "      <td>Dubai, DIFC, Central Park Tower</td>\n",
       "      <td>25.206412</td>\n",
       "      <td>55.275199</td>\n",
       "      <td>1,782 sqft\\n                      /           ...</td>\n",
       "      <td>2</td>\n",
       "      <td>3.0</td>\n",
       "      <td>Ready</td>\n",
       "      <td>NaN</td>\n",
       "    </tr>\n",
       "    <tr>\n",
       "      <th>1975</th>\n",
       "      <td>7704274</td>\n",
       "      <td>1175000</td>\n",
       "      <td>Dubai, Dubai South (Dubai World Central), EMAA...</td>\n",
       "      <td>24.865992</td>\n",
       "      <td>55.137958</td>\n",
       "      <td>3,247 sqft\\n                      /           ...</td>\n",
       "      <td>3</td>\n",
       "      <td>2.0</td>\n",
       "      <td>Ready</td>\n",
       "      <td>Partly furnished, Balcony, Barbecue Area, Buil...</td>\n",
       "    </tr>\n",
       "    <tr>\n",
       "      <th>1976</th>\n",
       "      <td>7704274</td>\n",
       "      <td>1175000</td>\n",
       "      <td>Dubai, Dubai South (Dubai World Central), EMAA...</td>\n",
       "      <td>24.865992</td>\n",
       "      <td>55.137958</td>\n",
       "      <td>3,247 sqft\\n                      /           ...</td>\n",
       "      <td>3</td>\n",
       "      <td>2.0</td>\n",
       "      <td>Ready</td>\n",
       "      <td>Partly furnished, Balcony, Barbecue Area, Buil...</td>\n",
       "    </tr>\n",
       "  </tbody>\n",
       "</table>\n",
       "<p>112 rows × 10 columns</p>\n",
       "</div>"
      ],
      "text/plain": [
       "           id    price                                           location  \\\n",
       "8     6376886  2100000         Dubai, Palm Jumeirah, Shoreline Apartments   \n",
       "9     6376886  2100000         Dubai, Palm Jumeirah, Shoreline Apartments   \n",
       "11    6473651  3550000                  Dubai, Downtown Dubai, Burj Vista   \n",
       "12    6473651  3550000                  Dubai, Downtown Dubai, Burj Vista   \n",
       "28    6810606  2800000           Dubai, Downtown Dubai, Burj Khalifa Area   \n",
       "...       ...      ...                                                ...   \n",
       "1846  7695774  1366000                            Dubai, Jumeirah, La Mer   \n",
       "1895  7698639  2400000                    Dubai, DIFC, Central Park Tower   \n",
       "1896  7698639  2400000                    Dubai, DIFC, Central Park Tower   \n",
       "1975  7704274  1175000  Dubai, Dubai South (Dubai World Central), EMAA...   \n",
       "1976  7704274  1175000  Dubai, Dubai South (Dubai World Central), EMAA...   \n",
       "\n",
       "       latitude  longitude                                               size  \\\n",
       "8     25.106668  55.149275  2,186 sqft\\n                      /           ...   \n",
       "9     25.106668  55.149275  2,186 sqft\\n                      /           ...   \n",
       "11    25.198796  55.271342  1,918 sqft\\n                      /           ...   \n",
       "12    25.198796  55.271342  1,918 sqft\\n                      /           ...   \n",
       "28    25.194282  55.271884  1,712 sqft\\n                      /           ...   \n",
       "...         ...        ...                                                ...   \n",
       "1846  25.240419  55.252770  816 sqft\\n                      /            7...   \n",
       "1895  25.206412  55.275199  1,782 sqft\\n                      /           ...   \n",
       "1896  25.206412  55.275199  1,782 sqft\\n                      /           ...   \n",
       "1975  24.865992  55.137958  3,247 sqft\\n                      /           ...   \n",
       "1976  24.865992  55.137958  3,247 sqft\\n                      /           ...   \n",
       "\n",
       "     no_of_bedrooms  no_of_bathrooms completion_status  \\\n",
       "8                 3              3.0             Ready   \n",
       "9                 3              3.0             Ready   \n",
       "11                3              4.0             Ready   \n",
       "12                3              4.0             Ready   \n",
       "28                2              3.0          Off-plan   \n",
       "...             ...              ...               ...   \n",
       "1846              1              1.0          Off-plan   \n",
       "1895              2              3.0             Ready   \n",
       "1896              2              3.0             Ready   \n",
       "1975              3              2.0             Ready   \n",
       "1976              3              2.0             Ready   \n",
       "\n",
       "                                              amenities  \n",
       "8                                                   NaN  \n",
       "9                                                   NaN  \n",
       "11    Unfurnished, Balcony, Central A/C, Kitchen App...  \n",
       "12    Unfurnished, Balcony, Central A/C, Kitchen App...  \n",
       "28    Unfurnished, Balcony, Built in Wardrobes, Cent...  \n",
       "...                                                 ...  \n",
       "1846  Unfurnished, Balcony, Built in Wardrobes, Cent...  \n",
       "1895                                                NaN  \n",
       "1896                                                NaN  \n",
       "1975  Partly furnished, Balcony, Barbecue Area, Buil...  \n",
       "1976  Partly furnished, Balcony, Barbecue Area, Buil...  \n",
       "\n",
       "[112 rows x 10 columns]"
      ]
     },
     "execution_count": 5,
     "metadata": {},
     "output_type": "execute_result"
    }
   ],
   "source": [
    "pd.set_option('display.max_rows', 25)\n",
    "\n",
    "property_ids = df_properties['id']\n",
    "df_properties[property_ids.isin(property_ids[property_ids.duplicated()])].sort_values('id')"
   ]
  },
  {
   "cell_type": "markdown",
   "metadata": {},
   "source": [
    "We can see above that we have 112 duplicate properties. Which means we have to remove 56 rows out of our properties data"
   ]
  },
  {
   "cell_type": "code",
   "execution_count": 6,
   "metadata": {},
   "outputs": [
    {
     "data": {
      "text/html": [
       "<div>\n",
       "<style scoped>\n",
       "    .dataframe tbody tr th:only-of-type {\n",
       "        vertical-align: middle;\n",
       "    }\n",
       "\n",
       "    .dataframe tbody tr th {\n",
       "        vertical-align: top;\n",
       "    }\n",
       "\n",
       "    .dataframe thead th {\n",
       "        text-align: right;\n",
       "    }\n",
       "</style>\n",
       "<table border=\"1\" class=\"dataframe\">\n",
       "  <thead>\n",
       "    <tr style=\"text-align: right;\">\n",
       "      <th></th>\n",
       "      <th>id</th>\n",
       "      <th>price</th>\n",
       "      <th>location</th>\n",
       "      <th>latitude</th>\n",
       "      <th>longitude</th>\n",
       "      <th>size</th>\n",
       "      <th>no_of_bedrooms</th>\n",
       "      <th>no_of_bathrooms</th>\n",
       "      <th>completion_status</th>\n",
       "      <th>amenities</th>\n",
       "    </tr>\n",
       "  </thead>\n",
       "  <tbody>\n",
       "  </tbody>\n",
       "</table>\n",
       "</div>"
      ],
      "text/plain": [
       "Empty DataFrame\n",
       "Columns: [id, price, location, latitude, longitude, size, no_of_bedrooms, no_of_bathrooms, completion_status, amenities]\n",
       "Index: []"
      ]
     },
     "execution_count": 6,
     "metadata": {},
     "output_type": "execute_result"
    }
   ],
   "source": [
    "# calling our custom function to remove duplicate properties on the basis of id\n",
    "\n",
    "df_properties = dc.remove_duplocate_properties(df_properties)\n",
    "property_ids = df_properties['id']\n",
    "df_properties[property_ids.isin(property_ids[property_ids.duplicated()])].sort_values('id')"
   ]
  },
  {
   "cell_type": "code",
   "execution_count": 7,
   "metadata": {},
   "outputs": [
    {
     "name": "stdout",
     "output_type": "stream",
     "text": [
      "We have 1932 rows and 10 columns in our dataframe\n"
     ]
    }
   ],
   "source": [
    "# As we can see now, we don't have any duplicates. Let's see the dimensions of our data\n",
    "\n",
    "print('We have', df_properties.shape[0], 'rows and', df_properties.shape[1], 'columns in our dataframe')"
   ]
  },
  {
   "cell_type": "markdown",
   "metadata": {},
   "source": [
    "Comparing to our initial number of properties 1992, we now have 1935 unique properties. Which means we removed 57 redundent rows from our dataframe"
   ]
  },
  {
   "cell_type": "markdown",
   "metadata": {},
   "source": [
    "#### 4. Removing NULL and unwanted values\n",
    "\n",
    "Now let's see where we need to remove NULL data or unwanted data from our dataframe. \n",
    "\n",
    "To do this, we will first try to find our what data we have in each columns and then make a judgement on how to proceed with this task"
   ]
  },
  {
   "cell_type": "markdown",
   "metadata": {},
   "source": [
    "##### 4.1 Price"
   ]
  },
  {
   "cell_type": "code",
   "execution_count": 8,
   "metadata": {},
   "outputs": [
    {
     "data": {
      "text/plain": [
       "1300000          31\n",
       "1650000          29\n",
       "1200000          28\n",
       "Ask for price    27\n",
       "1100000          26\n",
       "                 ..\n",
       "954505            1\n",
       "1502000           1\n",
       "1276686           1\n",
       "835000            1\n",
       "4222888           1\n",
       "Name: price, Length: 822, dtype: int64"
      ]
     },
     "execution_count": 8,
     "metadata": {},
     "output_type": "execute_result"
    }
   ],
   "source": [
    "# Unique values for price column\n",
    "\n",
    "df_properties['price'].value_counts()"
   ]
  },
  {
   "cell_type": "code",
   "execution_count": 9,
   "metadata": {},
   "outputs": [
    {
     "data": {
      "text/plain": [
       "1300000    31\n",
       "1650000    29\n",
       "1200000    28\n",
       "1100000    26\n",
       "2100000    24\n",
       "           ..\n",
       "1276686     1\n",
       "835000      1\n",
       "2299900     1\n",
       "1439112     1\n",
       "4222888     1\n",
       "Name: price, Length: 821, dtype: int64"
      ]
     },
     "execution_count": 9,
     "metadata": {},
     "output_type": "execute_result"
    }
   ],
   "source": [
    "# As we can see above that some of the properties have their price defined as 'Ask for price'. This is certinly not going to help us. So let's drop all the properties where price is defined as 'Ask for price'\n",
    "\n",
    "df_properties = dc.remove_askforprice_properties(df_properties)\n",
    "df_properties['price'].value_counts()"
   ]
  },
  {
   "cell_type": "markdown",
   "metadata": {},
   "source": [
    "As you can see above, we have removed all the properties having price as 'Ask for price'"
   ]
  },
  {
   "cell_type": "markdown",
   "metadata": {},
   "source": [
    "##### 4.2 Number of Bathrooms"
   ]
  },
  {
   "cell_type": "code",
   "execution_count": 10,
   "metadata": {},
   "outputs": [
    {
     "data": {
      "text/plain": [
       "2.0    704\n",
       "3.0    553\n",
       "1.0    311\n",
       "4.0    230\n",
       "5.0     77\n",
       "6.0     11\n",
       "Name: no_of_bathrooms, dtype: int64"
      ]
     },
     "execution_count": 10,
     "metadata": {},
     "output_type": "execute_result"
    }
   ],
   "source": [
    "df_properties['no_of_bathrooms'].value_counts()"
   ]
  },
  {
   "cell_type": "code",
   "execution_count": 11,
   "metadata": {},
   "outputs": [],
   "source": [
    "# Now, before handline 19 NULL values in no_of_bathrooms, we will need to perform certain steps.\n",
    "\n",
    "# fill nan with 0 in no_of_bathrooms\n",
    "\n",
    "replacement= {'no_of_bathrooms': 0} \n",
    "df_properties = dc.replace_nan(df_properties, replacement)\n",
    "\n",
    "# As no_of_bathrooms column is an object, lets convert it to int to get mean and average values\n",
    "convert_dict = {'no_of_bathrooms' : int}\n",
    "\n",
    "df_properties = dc.convert_datatypes(df_properties, convert_dict)"
   ]
  },
  {
   "cell_type": "code",
   "execution_count": 12,
   "metadata": {},
   "outputs": [
    {
     "name": "stdout",
     "output_type": "stream",
     "text": [
      "Mean: 2.4929133858267716\n",
      "Rounded Mean number of bathrooms: 2.0\n"
     ]
    }
   ],
   "source": [
    "# now that bathrooms column is converted to int and null values are replaced with. Let's find out what is the mean value for bathroom and then use that value to replace NULL\n",
    "\n",
    "print(\"Mean:\", df_properties['no_of_bathrooms'].mean())\n",
    "print(\"Rounded Mean number of bathrooms:\", df_properties['no_of_bathrooms'].mean().round())"
   ]
  },
  {
   "cell_type": "code",
   "execution_count": 13,
   "metadata": {},
   "outputs": [
    {
     "data": {
      "text/plain": [
       "2    723\n",
       "3    553\n",
       "1    311\n",
       "4    230\n",
       "5     77\n",
       "6     11\n",
       "Name: no_of_bathrooms, dtype: int64"
      ]
     },
     "execution_count": 13,
     "metadata": {},
     "output_type": "execute_result"
    }
   ],
   "source": [
    "# Now lets replace 0 value with our mean value of 2\n",
    "\n",
    "df_properties['no_of_bathrooms'].replace(0, 2, inplace = True)\n",
    "\n",
    "df_properties['no_of_bathrooms'].value_counts()"
   ]
  },
  {
   "cell_type": "markdown",
   "metadata": {},
   "source": [
    "##### 4.3 Number of Bedrooms"
   ]
  },
  {
   "cell_type": "code",
   "execution_count": 14,
   "metadata": {},
   "outputs": [
    {
     "data": {
      "text/plain": [
       "2                646\n",
       "1                596\n",
       "3                220\n",
       "studio           122\n",
       "3 + Maid         118\n",
       "2 + Maid          83\n",
       "1 + Maid          43\n",
       "4                 42\n",
       "4 + Maid          28\n",
       "5                  4\n",
       "studio + Maid      2\n",
       "5 + Maid           1\n",
       "Name: no_of_bedrooms, dtype: int64"
      ]
     },
     "execution_count": 14,
     "metadata": {},
     "output_type": "execute_result"
    }
   ],
   "source": [
    "df_properties['no_of_bedrooms'].value_counts()"
   ]
  },
  {
   "cell_type": "markdown",
   "metadata": {},
   "source": [
    "As we can see above, bedroom column includes variety of data. So:\n",
    "- '+ Maid' will be removed from bedroom column and converted into a new feature call MaidRoom 0 or 1, indicating whether the apartment has a maid room or not\n",
    "- studio will be converted to 0, as their really isn't any separate bedrooms in studio apartment"
   ]
  },
  {
   "cell_type": "code",
   "execution_count": 15,
   "metadata": {},
   "outputs": [
    {
     "data": {
      "text/plain": [
       "7579647    1\n",
       "7523715    1\n",
       "7652712    1\n",
       "7652714    1\n",
       "7617899    1\n",
       "          ..\n",
       "7690950    1\n",
       "7602887    1\n",
       "7498440    1\n",
       "7588554    1\n",
       "7499776    1\n",
       "Name: id, Length: 1905, dtype: int64"
      ]
     },
     "execution_count": 15,
     "metadata": {},
     "output_type": "execute_result"
    }
   ],
   "source": [
    "df_properties = dc.fix_bedroom_column(df_properties)\n",
    "df_properties['id'].value_counts()"
   ]
  },
  {
   "cell_type": "markdown",
   "metadata": {},
   "source": [
    "##### 4.4 Amenities"
   ]
  },
  {
   "cell_type": "markdown",
   "metadata": {},
   "source": [
    "For handling amenities, we will do:\n",
    "1. Retreive the amenities value from the apartment which has most number of amenities defined, by doing MAX(string). That will represent the maximum number of amenities an apartment can have.\n",
    "2. Clean up the retreived amenities list of special chars, spaces, etc\n",
    "3. Split the amenities list into individual feature with default value of 0\n",
    "4. Loop all properties and set each amenity feature to either 1 or 0 if that apartment has that perticular amenity. I hope this makes sense :)"
   ]
  },
  {
   "cell_type": "code",
   "execution_count": 16,
   "metadata": {},
   "outputs": [
    {
     "data": {
      "text/plain": [
       "\"Unfurnished, Balcony, Barbecue Area, Built in Wardrobes, Central A/C, Children's Play Area, Children's Pool, Concierge, Covered Parking, Kitchen Appliances, Lobby in Building, Maid Service, Networked, Pets Allowed, Private Garden, Private Gym, Private Jacuzzi, Private Pool, Security, Shared Gym, Shared Pool, Shared Spa, Study, Vastu-compliant, View of Landmark, View of Water, Walk-in Closet, \""
      ]
     },
     "execution_count": 16,
     "metadata": {},
     "output_type": "execute_result"
    }
   ],
   "source": [
    "df_properties['amenities'] = df_properties['amenities'].astype(str)\n",
    "most_amenities = max(df_properties['amenities'], key = len)\n",
    "most_amenities"
   ]
  },
  {
   "cell_type": "code",
   "execution_count": 17,
   "metadata": {},
   "outputs": [
    {
     "name": "stdout",
     "output_type": "stream",
     "text": [
      "<class 'pandas.core.frame.DataFrame'>\n",
      "Int64Index: 1905 entries, 0 to 1988\n",
      "Data columns (total 38 columns):\n",
      " #   Column               Non-Null Count  Dtype  \n",
      "---  ------               --------------  -----  \n",
      " 0   id                   1905 non-null   int64  \n",
      " 1   price                1905 non-null   object \n",
      " 2   location             1905 non-null   object \n",
      " 3   latitude             1905 non-null   float64\n",
      " 4   longitude            1905 non-null   float64\n",
      " 5   size                 1905 non-null   object \n",
      " 6   no_of_bedrooms       1905 non-null   object \n",
      " 7   no_of_bathrooms      1905 non-null   int32  \n",
      " 8   completion_status    1740 non-null   object \n",
      " 9   amenities            1905 non-null   object \n",
      " 10  maid_room            1905 non-null   bool   \n",
      " 11  unfurnished          1905 non-null   bool   \n",
      " 12  balcony              1905 non-null   bool   \n",
      " 13  barbecue_area        1905 non-null   bool   \n",
      " 14  built_in_wardrobes   1905 non-null   bool   \n",
      " 15  central_ac           1905 non-null   bool   \n",
      " 16  childrens_play_area  1905 non-null   bool   \n",
      " 17  childrens_pool       1905 non-null   bool   \n",
      " 18  concierge            1905 non-null   bool   \n",
      " 19  covered_parking      1905 non-null   bool   \n",
      " 20  kitchen_appliances   1905 non-null   bool   \n",
      " 21  lobby_in_building    1905 non-null   bool   \n",
      " 22  maid_service         1905 non-null   bool   \n",
      " 23  networked            1905 non-null   bool   \n",
      " 24  pets_allowed         1905 non-null   bool   \n",
      " 25  private_garden       1905 non-null   bool   \n",
      " 26  private_gym          1905 non-null   bool   \n",
      " 27  private_jacuzzi      1905 non-null   bool   \n",
      " 28  private_pool         1905 non-null   bool   \n",
      " 29  security             1905 non-null   bool   \n",
      " 30  shared_gym           1905 non-null   bool   \n",
      " 31  shared_pool          1905 non-null   bool   \n",
      " 32  shared_spa           1905 non-null   bool   \n",
      " 33  study                1905 non-null   bool   \n",
      " 34  vastu_compliant      1905 non-null   bool   \n",
      " 35  view_of_landmark     1905 non-null   bool   \n",
      " 36  view_of_water        1905 non-null   bool   \n",
      " 37  walk_in_closet       1905 non-null   bool   \n",
      "dtypes: bool(28), float64(2), int32(1), int64(1), object(6)\n",
      "memory usage: 288.4+ KB\n"
     ]
    }
   ],
   "source": [
    "# Retreiving MAX amenity from dataframe\n",
    "df_properties['amenities'] = df_properties['amenities'].astype(str)\n",
    "most_amenities = max(df_properties['amenities'], key = len)\n",
    "\n",
    "# Custom function for converting amenities to column\n",
    "df_properties, new_amenities_list = dc.convert_amenities_to_columns(df_properties, most_amenities)\n",
    "\n",
    "# Setting 1 or 0 against each property for their amenity\n",
    "df_properties = dc.fill_amenities(df_properties, new_amenities_list)\n",
    "\n",
    "df_properties.info()"
   ]
  },
  {
   "cell_type": "markdown",
   "metadata": {},
   "source": [
    "##### 4.5 Apartment Quality\n",
    "\n",
    "It is safe to say that based on number of amenities offered in an apartment, we can set the quality for each apartment.\n",
    "\n",
    "But do note that we might miscatgorize the apartment just because the amenities are not recorded by property portal, even though it's highly priced apartment.\n",
    "\n",
    "But as we are here for learning, so lets do this."
   ]
  },
  {
   "cell_type": "code",
   "execution_count": 18,
   "metadata": {},
   "outputs": [
    {
     "name": "stdout",
     "output_type": "stream",
     "text": [
      "Maxiumum number of amenities any apartment has is  28\n"
     ]
    }
   ],
   "source": [
    "print('Maxiumum number of amenities any apartment has is ', len(most_amenities.split(', ')))"
   ]
  },
  {
   "cell_type": "markdown",
   "metadata": {},
   "source": [
    "Based on above number we can rate our properties into following categories:\n",
    "    \n",
    "(1 - 7): Low<br>\n",
    "(8 - 14): Medium<br>\n",
    "(15 - 21): High<br>\n",
    "(22 - 28): Ultra"
   ]
  },
  {
   "cell_type": "code",
   "execution_count": 19,
   "metadata": {},
   "outputs": [
    {
     "data": {
      "text/plain": [
       "Medium    1146\n",
       "Low        544\n",
       "High       134\n",
       "Ultra       81\n",
       "Name: quality, dtype: int64"
      ]
     },
     "execution_count": 19,
     "metadata": {},
     "output_type": "execute_result"
    }
   ],
   "source": [
    "df_properties = dc.mark_property_quality(df_properties)\n",
    "df_properties.quality.value_counts()"
   ]
  },
  {
   "cell_type": "markdown",
   "metadata": {},
   "source": [
    "As you can see we have successfully engineered a categorical feature for our property dataset"
   ]
  },
  {
   "cell_type": "markdown",
   "metadata": {},
   "source": [
    "##### 4.6 Size\n",
    "\n",
    "Let's lookinto size feature of our dataframe and clean-up the data. We will also engineer a new feature called price_per_sqft. This will be usefull for our exploratory analysis to see which localities are more expensive than others in terms of property pricings"
   ]
  },
  {
   "cell_type": "code",
   "execution_count": 20,
   "metadata": {},
   "outputs": [
    {
     "data": {
      "text/plain": [
       "1,400 sqft\\n                      /            130 sqm    10\n",
       "1,300 sqft\\n                      /            121 sqm    10\n",
       "851 sqft\\n                      /            79 sqm        9\n",
       "1,133 sqft\\n                      /            105 sqm     8\n",
       "895 sqft\\n                      /            83 sqm        7\n",
       "                                                          ..\n",
       "5,049 sqft\\n                      /            469 sqm     1\n",
       "720 sqft\\n                      /            67 sqm        1\n",
       "1,406 sqft\\n                      /            131 sqm     1\n",
       "294 sqft\\n                      /            27 sqm        1\n",
       "1,360 sqft\\n                      /            126 sqm     1\n",
       "Name: size, Length: 1121, dtype: int64"
      ]
     },
     "execution_count": 20,
     "metadata": {},
     "output_type": "execute_result"
    }
   ],
   "source": [
    "df_properties['size'].value_counts()"
   ]
  },
  {
   "cell_type": "markdown",
   "metadata": {},
   "source": [
    "As you can see, size column contains details of both SQFT and SQM. For our analysis, we will keep the SQFT details and discard the SQM data, As keeping both values dosn't add value to our analysis"
   ]
  },
  {
   "cell_type": "code",
   "execution_count": 21,
   "metadata": {},
   "outputs": [
    {
     "data": {
      "text/html": [
       "<div>\n",
       "<style scoped>\n",
       "    .dataframe tbody tr th:only-of-type {\n",
       "        vertical-align: middle;\n",
       "    }\n",
       "\n",
       "    .dataframe tbody tr th {\n",
       "        vertical-align: top;\n",
       "    }\n",
       "\n",
       "    .dataframe thead th {\n",
       "        text-align: right;\n",
       "    }\n",
       "</style>\n",
       "<table border=\"1\" class=\"dataframe\">\n",
       "  <thead>\n",
       "    <tr style=\"text-align: right;\">\n",
       "      <th></th>\n",
       "      <th>id</th>\n",
       "      <th>location</th>\n",
       "      <th>latitude</th>\n",
       "      <th>longitude</th>\n",
       "      <th>price</th>\n",
       "      <th>size_in_sqft</th>\n",
       "      <th>price_per_sqft</th>\n",
       "      <th>no_of_bedrooms</th>\n",
       "      <th>no_of_bathrooms</th>\n",
       "      <th>quality</th>\n",
       "      <th>...</th>\n",
       "      <th>private_pool</th>\n",
       "      <th>security</th>\n",
       "      <th>shared_gym</th>\n",
       "      <th>shared_pool</th>\n",
       "      <th>shared_spa</th>\n",
       "      <th>study</th>\n",
       "      <th>vastu_compliant</th>\n",
       "      <th>view_of_landmark</th>\n",
       "      <th>view_of_water</th>\n",
       "      <th>walk_in_closet</th>\n",
       "    </tr>\n",
       "  </thead>\n",
       "  <tbody>\n",
       "    <tr>\n",
       "      <th>0</th>\n",
       "      <td>5528049</td>\n",
       "      <td>Dubai, Palm Jumeirah</td>\n",
       "      <td>25.113208</td>\n",
       "      <td>55.138932</td>\n",
       "      <td>2700000</td>\n",
       "      <td>1079</td>\n",
       "      <td>2502.32</td>\n",
       "      <td>1</td>\n",
       "      <td>2</td>\n",
       "      <td>Medium</td>\n",
       "      <td>...</td>\n",
       "      <td>False</td>\n",
       "      <td>False</td>\n",
       "      <td>True</td>\n",
       "      <td>False</td>\n",
       "      <td>False</td>\n",
       "      <td>False</td>\n",
       "      <td>False</td>\n",
       "      <td>False</td>\n",
       "      <td>True</td>\n",
       "      <td>False</td>\n",
       "    </tr>\n",
       "    <tr>\n",
       "      <th>1</th>\n",
       "      <td>6008529</td>\n",
       "      <td>Dubai, Palm Jumeirah, Shoreline Apartments</td>\n",
       "      <td>25.106809</td>\n",
       "      <td>55.151201</td>\n",
       "      <td>2850000</td>\n",
       "      <td>1582</td>\n",
       "      <td>1801.52</td>\n",
       "      <td>2</td>\n",
       "      <td>2</td>\n",
       "      <td>Medium</td>\n",
       "      <td>...</td>\n",
       "      <td>False</td>\n",
       "      <td>False</td>\n",
       "      <td>True</td>\n",
       "      <td>True</td>\n",
       "      <td>False</td>\n",
       "      <td>False</td>\n",
       "      <td>False</td>\n",
       "      <td>False</td>\n",
       "      <td>True</td>\n",
       "      <td>False</td>\n",
       "    </tr>\n",
       "    <tr>\n",
       "      <th>2</th>\n",
       "      <td>6034542</td>\n",
       "      <td>Dubai, Jumeirah Lake Towers, Lake Almas West</td>\n",
       "      <td>25.063302</td>\n",
       "      <td>55.137728</td>\n",
       "      <td>1150000</td>\n",
       "      <td>1951</td>\n",
       "      <td>589.44</td>\n",
       "      <td>3</td>\n",
       "      <td>5</td>\n",
       "      <td>Medium</td>\n",
       "      <td>...</td>\n",
       "      <td>False</td>\n",
       "      <td>True</td>\n",
       "      <td>True</td>\n",
       "      <td>True</td>\n",
       "      <td>False</td>\n",
       "      <td>False</td>\n",
       "      <td>False</td>\n",
       "      <td>True</td>\n",
       "      <td>True</td>\n",
       "      <td>True</td>\n",
       "    </tr>\n",
       "  </tbody>\n",
       "</table>\n",
       "<p>3 rows × 40 columns</p>\n",
       "</div>"
      ],
      "text/plain": [
       "        id                                      location   latitude  \\\n",
       "0  5528049                          Dubai, Palm Jumeirah  25.113208   \n",
       "1  6008529    Dubai, Palm Jumeirah, Shoreline Apartments  25.106809   \n",
       "2  6034542  Dubai, Jumeirah Lake Towers, Lake Almas West  25.063302   \n",
       "\n",
       "   longitude    price  size_in_sqft  price_per_sqft no_of_bedrooms  \\\n",
       "0  55.138932  2700000          1079         2502.32              1   \n",
       "1  55.151201  2850000          1582         1801.52              2   \n",
       "2  55.137728  1150000          1951          589.44              3   \n",
       "\n",
       "   no_of_bathrooms quality  ... private_pool security  shared_gym  \\\n",
       "0                2  Medium  ...        False    False        True   \n",
       "1                2  Medium  ...        False    False        True   \n",
       "2                5  Medium  ...        False     True        True   \n",
       "\n",
       "   shared_pool  shared_spa  study  vastu_compliant  view_of_landmark  \\\n",
       "0        False       False  False            False             False   \n",
       "1         True       False  False            False             False   \n",
       "2         True       False  False            False              True   \n",
       "\n",
       "   view_of_water  walk_in_closet  \n",
       "0           True           False  \n",
       "1           True           False  \n",
       "2           True            True  \n",
       "\n",
       "[3 rows x 40 columns]"
      ]
     },
     "execution_count": 21,
     "metadata": {},
     "output_type": "execute_result"
    }
   ],
   "source": [
    "# Cleaning up property size details using custom function\n",
    "df_properties = dc.cleanup_property_size(df_properties)\n",
    "\n",
    "# rename column\n",
    "df_properties.rename(columns={'size':'size_in_sqft'}, inplace = True)\n",
    "\n",
    "# lets create a new computed\n",
    "df_properties = dc.create_feature_price_per_sqft(df_properties)\n",
    "\n",
    "df_properties.head(3)"
   ]
  },
  {
   "cell_type": "markdown",
   "metadata": {},
   "source": [
    "##### 4.7 Completion Status\n",
    "\n",
    "Let's take a look at completion status field and see what we find there"
   ]
  },
  {
   "cell_type": "code",
   "execution_count": 22,
   "metadata": {},
   "outputs": [
    {
     "data": {
      "text/plain": [
       "Ready       1132\n",
       "Off-plan     608\n",
       "Name: completion_status, dtype: int64"
      ]
     },
     "execution_count": 22,
     "metadata": {},
     "output_type": "execute_result"
    }
   ],
   "source": [
    "# Lets see what unique values we have.\n",
    "\n",
    "df_properties.completion_status.value_counts()"
   ]
  },
  {
   "cell_type": "code",
   "execution_count": 23,
   "metadata": {},
   "outputs": [
    {
     "data": {
      "text/plain": [
       "165"
      ]
     },
     "execution_count": 23,
     "metadata": {},
     "output_type": "execute_result"
    }
   ],
   "source": [
    "# Lets count the null values\n",
    "\n",
    "df_properties.completion_status.isna().sum()"
   ]
  },
  {
   "cell_type": "markdown",
   "metadata": {},
   "source": [
    "As we can see, we have significant amount of properties without completion status. This can taint the findings.\n",
    "\n",
    "One way of handling this is to replace the empty completion status with 'Ready', as most of the properties are marked as ready.\n",
    "\n",
    "Other way, is to eliminate the properties which have no completion status.\n",
    "\n",
    "If we assess the completion status field, we can say that it is not that significant of a field to have the properties removed for it. So best way forward is to drop this column."
   ]
  },
  {
   "cell_type": "code",
   "execution_count": 24,
   "metadata": {},
   "outputs": [],
   "source": [
    "# Dropping completion_status field\n",
    "\n",
    "df_properties.drop('completion_status', axis = 1, inplace = True)"
   ]
  },
  {
   "cell_type": "markdown",
   "metadata": {},
   "source": [
    "In real world, the decision of dropping a column should be based on stakeholder input. We are just practicing, so why not :)"
   ]
  },
  {
   "cell_type": "markdown",
   "metadata": {},
   "source": [
    "##### 4.8 Location"
   ]
  },
  {
   "cell_type": "code",
   "execution_count": 25,
   "metadata": {},
   "outputs": [
    {
     "data": {
      "text/plain": [
       "Dubai, Jumeirah Village Circle                           183\n",
       "Dubai, Dubai Marina                                      160\n",
       "Dubai, Downtown Dubai                                     90\n",
       "Dubai, Business Bay                                       60\n",
       "Dubai, Palm Jumeirah                                      56\n",
       "                                                        ... \n",
       "Dubai, Dubai Marina, Marina Residence                      1\n",
       "Dubai, Dubai South (Dubai World Central), EMAAR South      1\n",
       "Dubai, Dubai Silicon Oasis, La Vista Residence             1\n",
       "Dubai, Jumeirah Village Circle, District 18                1\n",
       "Dubai, Dubai Sports City, Zenith Towers                    1\n",
       "Name: location, Length: 217, dtype: int64"
      ]
     },
     "execution_count": 25,
     "metadata": {},
     "output_type": "execute_result"
    }
   ],
   "source": [
    "df_properties.location.value_counts()"
   ]
  },
  {
   "cell_type": "markdown",
   "metadata": {},
   "source": [
    "If we look above, we can see that in some cases we have only have location as \"Dubai, [Neighborhood Name]\" and in same case we have \"Dubai, [Neighborhood Name], Building/Project Name\"\n",
    "\n",
    "Let's standardize this by:\n",
    "\n",
    "- Remove \"Dubai, \" part from location as we all know all properties are from Dubai\n",
    "- Remove the project part of Location as this analysis is more targeted to locality rather than project or building\n",
    "- All locations containing word downtown in neighbor, except for the ones called downtown jebel ali"
   ]
  },
  {
   "cell_type": "code",
   "execution_count": 26,
   "metadata": {},
   "outputs": [],
   "source": [
    "df_properties = dc.clean_location_details(df_properties)"
   ]
  },
  {
   "cell_type": "code",
   "execution_count": 27,
   "metadata": {},
   "outputs": [
    {
     "data": {
      "text/plain": [
       "array(['Palm Jumeirah', 'Jumeirah Lake Towers', 'Culture Village',\n",
       "       'Downtown Dubai', 'Dubai Marina', 'Business Bay', 'Old Town',\n",
       "       'Al Kifaf', 'Meydan', 'Arjan', 'Jumeirah Beach Residence',\n",
       "       'Dubai Creek Harbour (The Lagoons)', 'Greens', 'City Walk',\n",
       "       'Al Furjan', 'DAMAC Hills', 'Jumeirah Golf Estates', 'Jumeirah',\n",
       "       'Dubai Hills Estate', 'Umm Suqeim', 'Motor City', 'DIFC',\n",
       "       'Jumeirah Village Circle', 'Barsha Heights (Tecom)', 'Al Barari',\n",
       "       'Dubai Production City (IMPZ)', 'The Hills', 'The Views',\n",
       "       'Dubai Sports City', 'Dubai Silicon Oasis',\n",
       "       'Jumeirah Village Triangle', 'Mohammed Bin Rashid City',\n",
       "       'Dubai Harbour', 'Bluewaters', 'International City',\n",
       "       'Falcon City of Wonders', 'Mina Rashid', 'Town Square',\n",
       "       'Green Community', 'Al Barsha', 'Al Sufouh', 'Dubai Festival City',\n",
       "       'Jebel Ali', 'Dubai Land', 'World Trade Center', 'Mudon',\n",
       "       'Discovery Gardens', 'Remraam', 'Mirdif',\n",
       "       'Dubai South (Dubai World Central)', 'Dubai Healthcare City',\n",
       "       'wasl gate', 'Dubai Residence Complex', 'Al Quoz'], dtype=object)"
      ]
     },
     "execution_count": 27,
     "metadata": {},
     "output_type": "execute_result"
    }
   ],
   "source": [
    "df_properties.neighborhood.unique()"
   ]
  },
  {
   "cell_type": "code",
   "execution_count": 28,
   "metadata": {},
   "outputs": [
    {
     "data": {
      "text/plain": [
       "Downtown Dubai              302\n",
       "Dubai Marina                288\n",
       "Jumeirah Village Circle     200\n",
       "Palm Jumeirah               178\n",
       "Jumeirah Beach Residence    116\n",
       "                           ... \n",
       "Dubai Healthcare City         2\n",
       "Dubai Residence Complex       1\n",
       "Al Quoz                       1\n",
       "Mina Rashid                   1\n",
       "wasl gate                     1\n",
       "Name: neighborhood, Length: 54, dtype: int64"
      ]
     },
     "execution_count": 28,
     "metadata": {},
     "output_type": "execute_result"
    }
   ],
   "source": [
    "df_properties.neighborhood.value_counts()"
   ]
  },
  {
   "cell_type": "markdown",
   "metadata": {},
   "source": [
    "Now we have a very normalized neighborhood data which can give us helpful insight of price trends per Dubai neighborhoods"
   ]
  },
  {
   "cell_type": "markdown",
   "metadata": {},
   "source": [
    "#### 5. Saving Data\n",
    "\n",
    "Now that we have cleaned our data, it's time to save this updated dataset into CSV format.\n",
    "\n",
    "We will utilize this updated CSV in our exploratory and machine learning analysis"
   ]
  },
  {
   "cell_type": "code",
   "execution_count": 29,
   "metadata": {},
   "outputs": [],
   "source": [
    "df_properties.to_csv('cleaned_property_data.csv', index = False)"
   ]
  }
 ],
 "metadata": {
  "kernelspec": {
   "display_name": "Python 3",
   "language": "python",
   "name": "python3"
  },
  "language_info": {
   "codemirror_mode": {
    "name": "ipython",
    "version": 3
   },
   "file_extension": ".py",
   "mimetype": "text/x-python",
   "name": "python",
   "nbconvert_exporter": "python",
   "pygments_lexer": "ipython3",
   "version": "3.8.3"
  }
 },
 "nbformat": 4,
 "nbformat_minor": 4
}
