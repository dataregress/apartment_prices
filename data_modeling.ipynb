{
 "cells": [
  {
   "cell_type": "markdown",
   "metadata": {},
   "source": [
    "## Model Development\n",
    "\n",
    "Now that we have our cleaned data with required features, lets proceed with model development "
   ]
  },
  {
   "cell_type": "markdown",
   "metadata": {},
   "source": [
    "Importing Libraries"
   ]
  },
  {
   "cell_type": "code",
   "execution_count": 1,
   "metadata": {},
   "outputs": [],
   "source": [
    "import numpy as np \n",
    "import pandas as pd\n",
    "import seaborn as sns\n",
    "import matplotlib.pyplot as plt\n",
    "\n",
    "from sklearn.model_selection import train_test_split\n",
    "from sklearn.metrics import mean_squared_error\n",
    "from sklearn.ensemble import RandomForestRegressor,  GradientBoostingRegressor\n",
    "from sklearn.model_selection import RandomizedSearchCV\n",
    "from sklearn.model_selection import cross_val_score\n",
    "from sklearn.metrics import mean_squared_error\n",
    "from sklearn.metrics import r2_score\n",
    "\n",
    "from xgboost import XGBRegressor\n",
    "from lightgbm import LGBMRegressor\n",
    "\n",
    "from math import sqrt\n",
    "\n",
    "%matplotlib inline"
   ]
  },
  {
   "cell_type": "markdown",
   "metadata": {},
   "source": [
    "Loading our data into dataframe"
   ]
  },
  {
   "cell_type": "code",
   "execution_count": 2,
   "metadata": {},
   "outputs": [
    {
     "data": {
      "text/html": [
       "<div>\n",
       "<style scoped>\n",
       "    .dataframe tbody tr th:only-of-type {\n",
       "        vertical-align: middle;\n",
       "    }\n",
       "\n",
       "    .dataframe tbody tr th {\n",
       "        vertical-align: top;\n",
       "    }\n",
       "\n",
       "    .dataframe thead th {\n",
       "        text-align: right;\n",
       "    }\n",
       "</style>\n",
       "<table border=\"1\" class=\"dataframe\">\n",
       "  <thead>\n",
       "    <tr style=\"text-align: right;\">\n",
       "      <th></th>\n",
       "      <th>id</th>\n",
       "      <th>latitude</th>\n",
       "      <th>longitude</th>\n",
       "      <th>price</th>\n",
       "      <th>size_in_sqft</th>\n",
       "      <th>price_per_sqft</th>\n",
       "      <th>no_of_bedrooms</th>\n",
       "      <th>no_of_bathrooms</th>\n",
       "      <th>maid_room</th>\n",
       "      <th>unfurnished</th>\n",
       "      <th>...</th>\n",
       "      <th>neighborhood_The Hills</th>\n",
       "      <th>neighborhood_The Views</th>\n",
       "      <th>neighborhood_Town Square</th>\n",
       "      <th>neighborhood_Umm Suqeim</th>\n",
       "      <th>neighborhood_World Trade Center</th>\n",
       "      <th>neighborhood_wasl gate</th>\n",
       "      <th>quality_High</th>\n",
       "      <th>quality_Low</th>\n",
       "      <th>quality_Medium</th>\n",
       "      <th>quality_Ultra</th>\n",
       "    </tr>\n",
       "  </thead>\n",
       "  <tbody>\n",
       "    <tr>\n",
       "      <th>0</th>\n",
       "      <td>5528049</td>\n",
       "      <td>25.113208</td>\n",
       "      <td>55.138932</td>\n",
       "      <td>2700000</td>\n",
       "      <td>1079</td>\n",
       "      <td>2502.32</td>\n",
       "      <td>1</td>\n",
       "      <td>2</td>\n",
       "      <td>False</td>\n",
       "      <td>False</td>\n",
       "      <td>...</td>\n",
       "      <td>0</td>\n",
       "      <td>0</td>\n",
       "      <td>0</td>\n",
       "      <td>0</td>\n",
       "      <td>0</td>\n",
       "      <td>0</td>\n",
       "      <td>0</td>\n",
       "      <td>0</td>\n",
       "      <td>1</td>\n",
       "      <td>0</td>\n",
       "    </tr>\n",
       "    <tr>\n",
       "      <th>1</th>\n",
       "      <td>6008529</td>\n",
       "      <td>25.106809</td>\n",
       "      <td>55.151201</td>\n",
       "      <td>2850000</td>\n",
       "      <td>1582</td>\n",
       "      <td>1801.52</td>\n",
       "      <td>2</td>\n",
       "      <td>2</td>\n",
       "      <td>False</td>\n",
       "      <td>False</td>\n",
       "      <td>...</td>\n",
       "      <td>0</td>\n",
       "      <td>0</td>\n",
       "      <td>0</td>\n",
       "      <td>0</td>\n",
       "      <td>0</td>\n",
       "      <td>0</td>\n",
       "      <td>0</td>\n",
       "      <td>0</td>\n",
       "      <td>1</td>\n",
       "      <td>0</td>\n",
       "    </tr>\n",
       "    <tr>\n",
       "      <th>2</th>\n",
       "      <td>6034542</td>\n",
       "      <td>25.063302</td>\n",
       "      <td>55.137728</td>\n",
       "      <td>1150000</td>\n",
       "      <td>1951</td>\n",
       "      <td>589.44</td>\n",
       "      <td>3</td>\n",
       "      <td>5</td>\n",
       "      <td>True</td>\n",
       "      <td>True</td>\n",
       "      <td>...</td>\n",
       "      <td>0</td>\n",
       "      <td>0</td>\n",
       "      <td>0</td>\n",
       "      <td>0</td>\n",
       "      <td>0</td>\n",
       "      <td>0</td>\n",
       "      <td>0</td>\n",
       "      <td>0</td>\n",
       "      <td>1</td>\n",
       "      <td>0</td>\n",
       "    </tr>\n",
       "    <tr>\n",
       "      <th>3</th>\n",
       "      <td>6326063</td>\n",
       "      <td>25.227295</td>\n",
       "      <td>55.341761</td>\n",
       "      <td>2850000</td>\n",
       "      <td>2020</td>\n",
       "      <td>1410.89</td>\n",
       "      <td>2</td>\n",
       "      <td>3</td>\n",
       "      <td>False</td>\n",
       "      <td>True</td>\n",
       "      <td>...</td>\n",
       "      <td>0</td>\n",
       "      <td>0</td>\n",
       "      <td>0</td>\n",
       "      <td>0</td>\n",
       "      <td>0</td>\n",
       "      <td>0</td>\n",
       "      <td>0</td>\n",
       "      <td>1</td>\n",
       "      <td>0</td>\n",
       "      <td>0</td>\n",
       "    </tr>\n",
       "    <tr>\n",
       "      <th>4</th>\n",
       "      <td>6356778</td>\n",
       "      <td>25.114275</td>\n",
       "      <td>55.139764</td>\n",
       "      <td>1729200</td>\n",
       "      <td>507</td>\n",
       "      <td>3410.65</td>\n",
       "      <td>0</td>\n",
       "      <td>1</td>\n",
       "      <td>False</td>\n",
       "      <td>False</td>\n",
       "      <td>...</td>\n",
       "      <td>0</td>\n",
       "      <td>0</td>\n",
       "      <td>0</td>\n",
       "      <td>0</td>\n",
       "      <td>0</td>\n",
       "      <td>0</td>\n",
       "      <td>0</td>\n",
       "      <td>0</td>\n",
       "      <td>1</td>\n",
       "      <td>0</td>\n",
       "    </tr>\n",
       "  </tbody>\n",
       "</table>\n",
       "<p>5 rows × 94 columns</p>\n",
       "</div>"
      ],
      "text/plain": [
       "        id   latitude  longitude    price  size_in_sqft  price_per_sqft  \\\n",
       "0  5528049  25.113208  55.138932  2700000          1079         2502.32   \n",
       "1  6008529  25.106809  55.151201  2850000          1582         1801.52   \n",
       "2  6034542  25.063302  55.137728  1150000          1951          589.44   \n",
       "3  6326063  25.227295  55.341761  2850000          2020         1410.89   \n",
       "4  6356778  25.114275  55.139764  1729200           507         3410.65   \n",
       "\n",
       "   no_of_bedrooms  no_of_bathrooms  maid_room  unfurnished  ...  \\\n",
       "0               1                2      False        False  ...   \n",
       "1               2                2      False        False  ...   \n",
       "2               3                5       True         True  ...   \n",
       "3               2                3      False         True  ...   \n",
       "4               0                1      False        False  ...   \n",
       "\n",
       "   neighborhood_The Hills  neighborhood_The Views  neighborhood_Town Square  \\\n",
       "0                       0                       0                         0   \n",
       "1                       0                       0                         0   \n",
       "2                       0                       0                         0   \n",
       "3                       0                       0                         0   \n",
       "4                       0                       0                         0   \n",
       "\n",
       "   neighborhood_Umm Suqeim  neighborhood_World Trade Center  \\\n",
       "0                        0                                0   \n",
       "1                        0                                0   \n",
       "2                        0                                0   \n",
       "3                        0                                0   \n",
       "4                        0                                0   \n",
       "\n",
       "   neighborhood_wasl gate  quality_High  quality_Low  quality_Medium  \\\n",
       "0                       0             0            0               1   \n",
       "1                       0             0            0               1   \n",
       "2                       0             0            0               1   \n",
       "3                       0             0            1               0   \n",
       "4                       0             0            0               1   \n",
       "\n",
       "   quality_Ultra  \n",
       "0              0  \n",
       "1              0  \n",
       "2              0  \n",
       "3              0  \n",
       "4              0  \n",
       "\n",
       "[5 rows x 94 columns]"
      ]
     },
     "execution_count": 2,
     "metadata": {},
     "output_type": "execute_result"
    }
   ],
   "source": [
    "df_properties = pd.read_csv('cleaned_property_data.csv')\n",
    "df_properties = pd.get_dummies(df_properties, columns=['neighborhood', 'quality'])\n",
    "df_properties.head()"
   ]
  },
  {
   "cell_type": "markdown",
   "metadata": {},
   "source": [
    "Spliting our data into 70/30 split for training and testing dataset. We are also making a copy of test data for publishing predictions"
   ]
  },
  {
   "cell_type": "code",
   "execution_count": 3,
   "metadata": {},
   "outputs": [],
   "source": [
    "df_train = df_properties.sample(frac = .7)\n",
    "df_test = df_properties[~df_properties.id.isin(df_train.id)]\n",
    "df_prediction = df_test[['id', 'price']].copy()"
   ]
  },
  {
   "cell_type": "markdown",
   "metadata": {},
   "source": [
    "Training dataframe"
   ]
  },
  {
   "cell_type": "code",
   "execution_count": 4,
   "metadata": {},
   "outputs": [
    {
     "data": {
      "text/plain": [
       "(1334, 94)"
      ]
     },
     "execution_count": 4,
     "metadata": {},
     "output_type": "execute_result"
    }
   ],
   "source": [
    "df_train.shape"
   ]
  },
  {
   "cell_type": "markdown",
   "metadata": {},
   "source": [
    "Testing dataframe"
   ]
  },
  {
   "cell_type": "code",
   "execution_count": 5,
   "metadata": {},
   "outputs": [
    {
     "data": {
      "text/plain": [
       "(571, 94)"
      ]
     },
     "execution_count": 5,
     "metadata": {},
     "output_type": "execute_result"
    }
   ],
   "source": [
    "df_test.shape"
   ]
  },
  {
   "cell_type": "markdown",
   "metadata": {},
   "source": [
    "Target feature for prediction"
   ]
  },
  {
   "cell_type": "code",
   "execution_count": 6,
   "metadata": {},
   "outputs": [],
   "source": [
    "y_train = df_train['price'].values"
   ]
  },
  {
   "cell_type": "markdown",
   "metadata": {},
   "source": [
    "Excluding target feature from the training dataset"
   ]
  },
  {
   "cell_type": "code",
   "execution_count": 7,
   "metadata": {},
   "outputs": [],
   "source": [
    "X = df_train\n",
    "\n",
    "y = y_train"
   ]
  },
  {
   "cell_type": "markdown",
   "metadata": {},
   "source": [
    "Splitting training dataset for model training."
   ]
  },
  {
   "cell_type": "code",
   "execution_count": 8,
   "metadata": {},
   "outputs": [],
   "source": [
    "# Split into train & test set\n",
    "X_train, X_test, y_train, y_test = train_test_split(X, y, test_size = 0.2)"
   ]
  },
  {
   "cell_type": "markdown",
   "metadata": {},
   "source": [
    "For prediction modelling we will use following models:\n",
    "    \n",
    "- LGBMRegressor\n",
    "- RandomForestRegressor\n",
    "- XGBRegressor\n",
    "- LGBMRegressor\n",
    "\n",
    "We will train our models using training dataset consisting of 1334 properties and then test them against our testing dataset with 571 properties.\n",
    "\n",
    "We will check our R2 score for each model and we will select the predictions from the model which is closest to value of 1. R2 scores range from 0 to 1.\n",
    "\n",
    "Based on best R2 score we will match actual values with predicted values and see the percentage difference."
   ]
  },
  {
   "cell_type": "markdown",
   "metadata": {},
   "source": [
    "### GradientBoostingRegressor"
   ]
  },
  {
   "cell_type": "markdown",
   "metadata": {},
   "source": [
    "#### Training"
   ]
  },
  {
   "cell_type": "code",
   "execution_count": 9,
   "metadata": {},
   "outputs": [],
   "source": [
    "#np.random.seed(42)\n",
    "\n",
    "gradient = GradientBoostingRegressor(n_estimators = 5000)\n",
    "gradient.fit(X_train, y_train)\n",
    "gradient_predictions = gradient.predict(X_test)"
   ]
  },
  {
   "cell_type": "markdown",
   "metadata": {},
   "source": [
    "#### Testing"
   ]
  },
  {
   "cell_type": "code",
   "execution_count": 10,
   "metadata": {},
   "outputs": [
    {
     "name": "stdout",
     "output_type": "stream",
     "text": [
      "R2 Score for GradientBoostingRegressor 0.9992177542939731\n"
     ]
    }
   ],
   "source": [
    "gradient_predictions = gradient.predict(df_test)\n",
    "gradient_r2_score = r2_score(df_prediction.price, gradient_predictions)\n",
    "print('R2 Score for GradientBoostingRegressor', gradient_r2_score)"
   ]
  },
  {
   "cell_type": "markdown",
   "metadata": {},
   "source": [
    "### RandomForestRegressor"
   ]
  },
  {
   "cell_type": "markdown",
   "metadata": {},
   "source": [
    "#### Training"
   ]
  },
  {
   "cell_type": "code",
   "execution_count": 11,
   "metadata": {},
   "outputs": [],
   "source": [
    "random_forest = RandomForestRegressor()\n",
    "random_forest.fit(X_train, y_train)\n",
    "forest_prediction = random_forest.predict(X_test)"
   ]
  },
  {
   "cell_type": "markdown",
   "metadata": {},
   "source": [
    "#### Testing"
   ]
  },
  {
   "cell_type": "code",
   "execution_count": 12,
   "metadata": {},
   "outputs": [
    {
     "name": "stdout",
     "output_type": "stream",
     "text": [
      "R2 Score for RandomForestRegressor 0.9950688951884792\n"
     ]
    }
   ],
   "source": [
    "forest_prediction = random_forest.predict(df_test)\n",
    "forest_r2_score = r2_score(df_prediction.price, forest_prediction)\n",
    "print('R2 Score for RandomForestRegressor', forest_r2_score)"
   ]
  },
  {
   "cell_type": "markdown",
   "metadata": {},
   "source": [
    "### XGBRegressor"
   ]
  },
  {
   "cell_type": "markdown",
   "metadata": {},
   "source": [
    "#### Training"
   ]
  },
  {
   "cell_type": "code",
   "execution_count": 13,
   "metadata": {},
   "outputs": [],
   "source": [
    "xgbr_regressor = XGBRegressor()\n",
    "xgbr_regressor.fit(X_train, y_train)\n",
    "xgbr_regressor_prediction = xgbr_regressor.predict(X_test)"
   ]
  },
  {
   "cell_type": "markdown",
   "metadata": {},
   "source": [
    "#### Testing"
   ]
  },
  {
   "cell_type": "code",
   "execution_count": 14,
   "metadata": {},
   "outputs": [
    {
     "name": "stdout",
     "output_type": "stream",
     "text": [
      "R2 Score for XGBRegressor 0.997932732521642\n"
     ]
    }
   ],
   "source": [
    "xgbr_regressor_prediction = xgbr_regressor.predict(df_test)\n",
    "xgbr_regresso_r2_score = r2_score(df_prediction.price, xgbr_regressor_prediction)\n",
    "print('R2 Score for XGBRegressor', xgbr_regresso_r2_score)"
   ]
  },
  {
   "cell_type": "markdown",
   "metadata": {},
   "source": [
    "### LGBMRegressor"
   ]
  },
  {
   "cell_type": "markdown",
   "metadata": {},
   "source": [
    "#### Training"
   ]
  },
  {
   "cell_type": "code",
   "execution_count": 15,
   "metadata": {},
   "outputs": [],
   "source": [
    "lgbm_regressor = LGBMRegressor()\n",
    "lgbm_regressor.fit(X_train, y_train)\n",
    "lgbm_regressor_prediction = lgbm_regressor.predict(X_test)"
   ]
  },
  {
   "cell_type": "markdown",
   "metadata": {},
   "source": [
    "#### Testing"
   ]
  },
  {
   "cell_type": "code",
   "execution_count": 16,
   "metadata": {},
   "outputs": [
    {
     "name": "stdout",
     "output_type": "stream",
     "text": [
      "R2 Score for LGBMRegressor 0.9392420734086722\n"
     ]
    }
   ],
   "source": [
    "lgbm_regressor_prediction = lgbm_regressor.predict(df_test)\n",
    "lgbm_regresso_r2_score = r2_score(df_prediction.price, lgbm_regressor_prediction)\n",
    "print('R2 Score for LGBMRegressor', lgbm_regresso_r2_score)"
   ]
  },
  {
   "cell_type": "markdown",
   "metadata": {},
   "source": [
    "### Predictions\n",
    "\n",
    "As we can see, the best R2 score which was closest to one was 0.9969415502320559. \n",
    "\n",
    "These predictions were out from RandomForestRegressor model"
   ]
  },
  {
   "cell_type": "code",
   "execution_count": 22,
   "metadata": {},
   "outputs": [],
   "source": [
    "pd.options.display.float_format = '{:.2f}'.format\n",
    "df_prediction['predicted_price'] = gradient_predictions\n",
    "df_prediction['percentage_difference'] = ((df_prediction.price - df_prediction.predicted_price)/\n",
    "                                          df_prediction.price * 100) * -1"
   ]
  },
  {
   "cell_type": "markdown",
   "metadata": {},
   "source": [
    "Below you can see the % difference between the actual property price and percentage difference"
   ]
  },
  {
   "cell_type": "code",
   "execution_count": 23,
   "metadata": {},
   "outputs": [
    {
     "data": {
      "text/html": [
       "<div>\n",
       "<style scoped>\n",
       "    .dataframe tbody tr th:only-of-type {\n",
       "        vertical-align: middle;\n",
       "    }\n",
       "\n",
       "    .dataframe tbody tr th {\n",
       "        vertical-align: top;\n",
       "    }\n",
       "\n",
       "    .dataframe thead th {\n",
       "        text-align: right;\n",
       "    }\n",
       "</style>\n",
       "<table border=\"1\" class=\"dataframe\">\n",
       "  <thead>\n",
       "    <tr style=\"text-align: right;\">\n",
       "      <th></th>\n",
       "      <th>id</th>\n",
       "      <th>price</th>\n",
       "      <th>predicted_price</th>\n",
       "      <th>percentage_difference</th>\n",
       "    </tr>\n",
       "  </thead>\n",
       "  <tbody>\n",
       "    <tr>\n",
       "      <th>0</th>\n",
       "      <td>5528049</td>\n",
       "      <td>2700000</td>\n",
       "      <td>2685340.85</td>\n",
       "      <td>-0.54</td>\n",
       "    </tr>\n",
       "    <tr>\n",
       "      <th>2</th>\n",
       "      <td>6034542</td>\n",
       "      <td>1150000</td>\n",
       "      <td>1140567.54</td>\n",
       "      <td>-0.82</td>\n",
       "    </tr>\n",
       "    <tr>\n",
       "      <th>3</th>\n",
       "      <td>6326063</td>\n",
       "      <td>2850000</td>\n",
       "      <td>2788238.78</td>\n",
       "      <td>-2.17</td>\n",
       "    </tr>\n",
       "    <tr>\n",
       "      <th>14</th>\n",
       "      <td>6505084</td>\n",
       "      <td>2089999</td>\n",
       "      <td>2097374.39</td>\n",
       "      <td>0.35</td>\n",
       "    </tr>\n",
       "    <tr>\n",
       "      <th>17</th>\n",
       "      <td>6530645</td>\n",
       "      <td>2700000</td>\n",
       "      <td>2716200.64</td>\n",
       "      <td>0.60</td>\n",
       "    </tr>\n",
       "    <tr>\n",
       "      <th>19</th>\n",
       "      <td>6587672</td>\n",
       "      <td>950000</td>\n",
       "      <td>955369.68</td>\n",
       "      <td>0.57</td>\n",
       "    </tr>\n",
       "    <tr>\n",
       "      <th>23</th>\n",
       "      <td>6768809</td>\n",
       "      <td>3349000</td>\n",
       "      <td>3312153.78</td>\n",
       "      <td>-1.10</td>\n",
       "    </tr>\n",
       "    <tr>\n",
       "      <th>25</th>\n",
       "      <td>6799796</td>\n",
       "      <td>2499000</td>\n",
       "      <td>2512303.78</td>\n",
       "      <td>0.53</td>\n",
       "    </tr>\n",
       "    <tr>\n",
       "      <th>26</th>\n",
       "      <td>6810606</td>\n",
       "      <td>2800000</td>\n",
       "      <td>2809747.17</td>\n",
       "      <td>0.35</td>\n",
       "    </tr>\n",
       "    <tr>\n",
       "      <th>30</th>\n",
       "      <td>6840187</td>\n",
       "      <td>1465777</td>\n",
       "      <td>1461125.23</td>\n",
       "      <td>-0.32</td>\n",
       "    </tr>\n",
       "    <tr>\n",
       "      <th>35</th>\n",
       "      <td>6944601</td>\n",
       "      <td>991000</td>\n",
       "      <td>994422.67</td>\n",
       "      <td>0.35</td>\n",
       "    </tr>\n",
       "    <tr>\n",
       "      <th>38</th>\n",
       "      <td>6956778</td>\n",
       "      <td>1270000</td>\n",
       "      <td>1268355.01</td>\n",
       "      <td>-0.13</td>\n",
       "    </tr>\n",
       "    <tr>\n",
       "      <th>39</th>\n",
       "      <td>6987144</td>\n",
       "      <td>1398000</td>\n",
       "      <td>1404391.40</td>\n",
       "      <td>0.46</td>\n",
       "    </tr>\n",
       "    <tr>\n",
       "      <th>41</th>\n",
       "      <td>6993708</td>\n",
       "      <td>1600000</td>\n",
       "      <td>1602058.84</td>\n",
       "      <td>0.13</td>\n",
       "    </tr>\n",
       "    <tr>\n",
       "      <th>52</th>\n",
       "      <td>7052085</td>\n",
       "      <td>2200000</td>\n",
       "      <td>2187982.05</td>\n",
       "      <td>-0.55</td>\n",
       "    </tr>\n",
       "  </tbody>\n",
       "</table>\n",
       "</div>"
      ],
      "text/plain": [
       "         id    price  predicted_price  percentage_difference\n",
       "0   5528049  2700000       2685340.85                  -0.54\n",
       "2   6034542  1150000       1140567.54                  -0.82\n",
       "3   6326063  2850000       2788238.78                  -2.17\n",
       "14  6505084  2089999       2097374.39                   0.35\n",
       "17  6530645  2700000       2716200.64                   0.60\n",
       "19  6587672   950000        955369.68                   0.57\n",
       "23  6768809  3349000       3312153.78                  -1.10\n",
       "25  6799796  2499000       2512303.78                   0.53\n",
       "26  6810606  2800000       2809747.17                   0.35\n",
       "30  6840187  1465777       1461125.23                  -0.32\n",
       "35  6944601   991000        994422.67                   0.35\n",
       "38  6956778  1270000       1268355.01                  -0.13\n",
       "39  6987144  1398000       1404391.40                   0.46\n",
       "41  6993708  1600000       1602058.84                   0.13\n",
       "52  7052085  2200000       2187982.05                  -0.55"
      ]
     },
     "execution_count": 23,
     "metadata": {},
     "output_type": "execute_result"
    }
   ],
   "source": [
    "df_prediction.head(15)"
   ]
  },
  {
   "cell_type": "markdown",
   "metadata": {},
   "source": [
    "Here is the graphical representation of our predicted values against actual property prices.\n",
    "\n",
    "It turned out to be very good. You can hardly see the blue line. You can only observe them at the edges."
   ]
  },
  {
   "cell_type": "code",
   "execution_count": 31,
   "metadata": {},
   "outputs": [
    {
     "data": {
      "image/png": "[encoded data removed]",
      "text/plain": [
       "<Figure size 1440x720 with 1 Axes>"
      ]
     },
     "metadata": {
      "needs_background": "light"
     },
     "output_type": "display_data"
    }
   ],
   "source": [
    "# Plotting the Train and Test scores\n",
    "plt.figure(figsize=(20,10))\n",
    "plt.plot(df_prediction.price, label=\"Original Price\")\n",
    "plt.plot(df_prediction.predicted_price, label=\"Predicted Price\")\n",
    "plt.xlabel('No of Properties')\n",
    "plt.ylabel('Price')\n",
    "plt.legend();"
   ]
  },
  {
   "cell_type": "code",
   "execution_count": null,
   "metadata": {},
   "outputs": [],
   "source": []
  }
 ],
 "metadata": {
  "kernelspec": {
   "display_name": "Python 3",
   "language": "python",
   "name": "python3"
  },
  "language_info": {
   "codemirror_mode": {
    "name": "ipython",
    "version": 3
   },
   "file_extension": ".py",
   "mimetype": "text/x-python",
   "name": "python",
   "nbconvert_exporter": "python",
   "pygments_lexer": "ipython3",
   "version": "3.8.3"
  }
 },
 "nbformat": 4,
 "nbformat_minor": 4
}
